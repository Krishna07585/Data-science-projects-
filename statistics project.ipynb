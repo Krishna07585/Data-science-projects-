{
 "cells": [
  {
   "cell_type": "code",
   "execution_count": 6,
   "id": "51288dc1-22fb-4406-8629-4c30bb596871",
   "metadata": {},
   "outputs": [],
   "source": [
    "import pandas as pd\n",
    "import numpy as np\n",
    "import statistics\n",
    "import seaborn as sbs\n",
    "import matplotlib.pyplot as plt"
   ]
  },
  {
   "cell_type": "code",
   "execution_count": 8,
   "id": "cc8c742a-f5e5-4e4c-ab67-f76dea4e4c32",
   "metadata": {},
   "outputs": [],
   "source": [
    "df = pd.read_csv(\"C:/Excel r/sales_data_with_discounts.csv\")"
   ]
  },
  {
   "cell_type": "code",
   "execution_count": 10,
   "id": "57daeb19-460f-4bff-a950-7fc741b4b5d2",
   "metadata": {},
   "outputs": [
    {
     "data": {
      "text/html": [
       "<div>\n",
       "<style scoped>\n",
       "    .dataframe tbody tr th:only-of-type {\n",
       "        vertical-align: middle;\n",
       "    }\n",
       "\n",
       "    .dataframe tbody tr th {\n",
       "        vertical-align: top;\n",
       "    }\n",
       "\n",
       "    .dataframe thead th {\n",
       "        text-align: right;\n",
       "    }\n",
       "</style>\n",
       "<table border=\"1\" class=\"dataframe\">\n",
       "  <thead>\n",
       "    <tr style=\"text-align: right;\">\n",
       "      <th></th>\n",
       "      <th>Date</th>\n",
       "      <th>Day</th>\n",
       "      <th>SKU</th>\n",
       "      <th>City</th>\n",
       "      <th>Volume</th>\n",
       "      <th>BU</th>\n",
       "      <th>Brand</th>\n",
       "      <th>Model</th>\n",
       "      <th>Avg Price</th>\n",
       "      <th>Total Sales Value</th>\n",
       "      <th>Discount Rate (%)</th>\n",
       "      <th>Discount Amount</th>\n",
       "      <th>Net Sales Value</th>\n",
       "    </tr>\n",
       "  </thead>\n",
       "  <tbody>\n",
       "    <tr>\n",
       "      <th>0</th>\n",
       "      <td>01-04-2021</td>\n",
       "      <td>Thursday</td>\n",
       "      <td>M01</td>\n",
       "      <td>C</td>\n",
       "      <td>15</td>\n",
       "      <td>Mobiles</td>\n",
       "      <td>RealU</td>\n",
       "      <td>RU-10</td>\n",
       "      <td>12100</td>\n",
       "      <td>181500</td>\n",
       "      <td>11.654820</td>\n",
       "      <td>21153.498820</td>\n",
       "      <td>160346.501180</td>\n",
       "    </tr>\n",
       "    <tr>\n",
       "      <th>1</th>\n",
       "      <td>01-04-2021</td>\n",
       "      <td>Thursday</td>\n",
       "      <td>M02</td>\n",
       "      <td>C</td>\n",
       "      <td>10</td>\n",
       "      <td>Mobiles</td>\n",
       "      <td>RealU</td>\n",
       "      <td>RU-9 Plus</td>\n",
       "      <td>10100</td>\n",
       "      <td>101000</td>\n",
       "      <td>11.560498</td>\n",
       "      <td>11676.102961</td>\n",
       "      <td>89323.897039</td>\n",
       "    </tr>\n",
       "    <tr>\n",
       "      <th>2</th>\n",
       "      <td>01-04-2021</td>\n",
       "      <td>Thursday</td>\n",
       "      <td>M03</td>\n",
       "      <td>C</td>\n",
       "      <td>7</td>\n",
       "      <td>Mobiles</td>\n",
       "      <td>YouM</td>\n",
       "      <td>YM-99</td>\n",
       "      <td>16100</td>\n",
       "      <td>112700</td>\n",
       "      <td>9.456886</td>\n",
       "      <td>10657.910157</td>\n",
       "      <td>102042.089843</td>\n",
       "    </tr>\n",
       "    <tr>\n",
       "      <th>3</th>\n",
       "      <td>01-04-2021</td>\n",
       "      <td>Thursday</td>\n",
       "      <td>M04</td>\n",
       "      <td>C</td>\n",
       "      <td>6</td>\n",
       "      <td>Mobiles</td>\n",
       "      <td>YouM</td>\n",
       "      <td>YM-99 Plus</td>\n",
       "      <td>20100</td>\n",
       "      <td>120600</td>\n",
       "      <td>6.935385</td>\n",
       "      <td>8364.074702</td>\n",
       "      <td>112235.925298</td>\n",
       "    </tr>\n",
       "    <tr>\n",
       "      <th>4</th>\n",
       "      <td>01-04-2021</td>\n",
       "      <td>Thursday</td>\n",
       "      <td>M05</td>\n",
       "      <td>C</td>\n",
       "      <td>3</td>\n",
       "      <td>Mobiles</td>\n",
       "      <td>YouM</td>\n",
       "      <td>YM-98</td>\n",
       "      <td>8100</td>\n",
       "      <td>24300</td>\n",
       "      <td>17.995663</td>\n",
       "      <td>4372.946230</td>\n",
       "      <td>19927.053770</td>\n",
       "    </tr>\n",
       "  </tbody>\n",
       "</table>\n",
       "</div>"
      ],
      "text/plain": [
       "         Date       Day  SKU City  Volume       BU  Brand       Model  \\\n",
       "0  01-04-2021  Thursday  M01    C      15  Mobiles  RealU       RU-10   \n",
       "1  01-04-2021  Thursday  M02    C      10  Mobiles  RealU   RU-9 Plus   \n",
       "2  01-04-2021  Thursday  M03    C       7  Mobiles   YouM       YM-99   \n",
       "3  01-04-2021  Thursday  M04    C       6  Mobiles   YouM  YM-99 Plus   \n",
       "4  01-04-2021  Thursday  M05    C       3  Mobiles   YouM      YM-98    \n",
       "\n",
       "   Avg Price  Total Sales Value  Discount Rate (%)  Discount Amount  \\\n",
       "0      12100             181500          11.654820     21153.498820   \n",
       "1      10100             101000          11.560498     11676.102961   \n",
       "2      16100             112700           9.456886     10657.910157   \n",
       "3      20100             120600           6.935385      8364.074702   \n",
       "4       8100              24300          17.995663      4372.946230   \n",
       "\n",
       "   Net Sales Value  \n",
       "0    160346.501180  \n",
       "1     89323.897039  \n",
       "2    102042.089843  \n",
       "3    112235.925298  \n",
       "4     19927.053770  "
      ]
     },
     "execution_count": 10,
     "metadata": {},
     "output_type": "execute_result"
    }
   ],
   "source": [
    "df.head()"
   ]
  },
  {
   "cell_type": "code",
   "execution_count": 39,
   "id": "792cdea4-416c-47b8-8f69-82a5461ca6df",
   "metadata": {},
   "outputs": [
    {
     "name": "stdout",
     "output_type": "stream",
     "text": [
      "<class 'pandas.core.frame.DataFrame'>\n",
      "RangeIndex: 450 entries, 0 to 449\n",
      "Data columns (total 13 columns):\n",
      " #   Column             Non-Null Count  Dtype  \n",
      "---  ------             --------------  -----  \n",
      " 0   Date               450 non-null    object \n",
      " 1   Day                450 non-null    object \n",
      " 2   SKU                450 non-null    object \n",
      " 3   City               450 non-null    object \n",
      " 4   Volume             450 non-null    int64  \n",
      " 5   BU                 450 non-null    object \n",
      " 6   Brand              450 non-null    object \n",
      " 7   Model              450 non-null    object \n",
      " 8   Avg Price          450 non-null    int64  \n",
      " 9   Total Sales Value  450 non-null    int64  \n",
      " 10  Discount Rate (%)  450 non-null    float64\n",
      " 11  Discount Amount    450 non-null    float64\n",
      " 12  Net Sales Value    450 non-null    float64\n",
      "dtypes: float64(3), int64(3), object(7)\n",
      "memory usage: 45.8+ KB\n"
     ]
    }
   ],
   "source": [
    "df.info()"
   ]
  },
  {
   "cell_type": "code",
   "execution_count": 34,
   "id": "ce7612d9-8793-4e6a-8fcc-14f7b11a2886",
   "metadata": {},
   "outputs": [
    {
     "data": {
      "text/plain": [
       "pandas.core.series.Series"
      ]
     },
     "execution_count": 34,
     "metadata": {},
     "output_type": "execute_result"
    }
   ],
   "source": [
    "volume = df['Volume']\n",
    "type(volume)\n",
    "avg_price = df['Avg Price']\n",
    "type(avg_price)\n",
    "total_sales = df['Total Sales Value']\n",
    "type(total_sales)\n",
    "dicount_rate = df['Discount Rate (%)']\n",
    "type(dicount_rate)\n",
    "discount_amount = df['Discount Amount']\n",
    "type(discount_amount)\n",
    "net_sales_value = df['Net Sales Value']\n",
    "type(net_sales_value)"
   ]
  },
  {
   "cell_type": "code",
   "execution_count": 38,
   "id": "36c645db-dfc6-42ae-b019-b43372de087c",
   "metadata": {},
   "outputs": [],
   "source": [
    "ts = total_sales"
   ]
  },
  {
   "cell_type": "code",
   "execution_count": 50,
   "id": "43b91cc9-85b8-4613-bb6f-7ff397c26d51",
   "metadata": {},
   "outputs": [
    {
     "data": {
      "text/plain": [
       "5700.0"
      ]
     },
     "execution_count": 50,
     "metadata": {},
     "output_type": "execute_result"
    }
   ],
   "source": [
    "ts.median()"
   ]
  },
  {
   "cell_type": "code",
   "execution_count": 75,
   "id": "4b67aaec-3027-4fef-a033-0e4fb929c783",
   "metadata": {},
   "outputs": [
    {
     "data": {
      "text/plain": [
       "33812.83555555555"
      ]
     },
     "execution_count": 75,
     "metadata": {},
     "output_type": "execute_result"
    }
   ],
   "source": [
    "#statistics.mean(total_sales)"
   ]
  },
  {
   "cell_type": "code",
   "execution_count": 77,
   "id": "1db75ad5-d229-43f7-bc74-3a51ffb58585",
   "metadata": {},
   "outputs": [
    {
     "data": {
      "text/plain": [
       "5700.0"
      ]
     },
     "execution_count": 77,
     "metadata": {},
     "output_type": "execute_result"
    }
   ],
   "source": [
    "#statistics.median(total_sales)"
   ]
  },
  {
   "cell_type": "code",
   "execution_count": 79,
   "id": "eb151c1d-b5af-4396-85c6-4abf818b9dcb",
   "metadata": {},
   "outputs": [
    {
     "data": {
      "text/plain": [
       "24300"
      ]
     },
     "execution_count": 79,
     "metadata": {},
     "output_type": "execute_result"
    }
   ],
   "source": [
    "#statistics.mode(total_sales)"
   ]
  },
  {
   "cell_type": "code",
   "execution_count": 81,
   "id": "0cc392d4-9628-4e3f-8595-48673d94dabc",
   "metadata": {},
   "outputs": [
    {
     "data": {
      "text/plain": [
       "2553793721.625459"
      ]
     },
     "execution_count": 81,
     "metadata": {},
     "output_type": "execute_result"
    }
   ],
   "source": [
    "#statistics.variance(total_sales)"
   ]
  },
  {
   "cell_type": "code",
   "execution_count": 85,
   "id": "55fa9e5b-0c0f-42f4-99ed-54138765bd71",
   "metadata": {},
   "outputs": [
    {
     "data": {
      "text/plain": [
       "50535.07417255326"
      ]
     },
     "execution_count": 85,
     "metadata": {},
     "output_type": "execute_result"
    }
   ],
   "source": [
    "#statistics.stdev(total_sales)"
   ]
  },
  {
   "cell_type": "code",
   "execution_count": 46,
   "id": "dcbea4c9-3f2a-41ee-bab9-df7a37e0c250",
   "metadata": {},
   "outputs": [
    {
     "data": {
      "text/plain": [
       "count       450.000000\n",
       "mean      33812.835556\n",
       "std       50535.074173\n",
       "min         400.000000\n",
       "25%        2700.000000\n",
       "50%        5700.000000\n",
       "75%       53200.000000\n",
       "max      196400.000000\n",
       "Name: Total Sales Value, dtype: float64"
      ]
     },
     "execution_count": 46,
     "metadata": {},
     "output_type": "execute_result"
    }
   ],
   "source": [
    "ts.describe().T"
   ]
  },
  {
   "cell_type": "code",
   "execution_count": 14,
   "id": "77f06ef5-905a-45e7-8eae-68a8f7470cba",
   "metadata": {},
   "outputs": [
    {
     "data": {
      "text/html": [
       "<div>\n",
       "<style scoped>\n",
       "    .dataframe tbody tr th:only-of-type {\n",
       "        vertical-align: middle;\n",
       "    }\n",
       "\n",
       "    .dataframe tbody tr th {\n",
       "        vertical-align: top;\n",
       "    }\n",
       "\n",
       "    .dataframe thead th {\n",
       "        text-align: right;\n",
       "    }\n",
       "</style>\n",
       "<table border=\"1\" class=\"dataframe\">\n",
       "  <thead>\n",
       "    <tr style=\"text-align: right;\">\n",
       "      <th></th>\n",
       "      <th>Date</th>\n",
       "      <th>Day</th>\n",
       "      <th>SKU</th>\n",
       "      <th>City</th>\n",
       "      <th>Volume</th>\n",
       "      <th>BU</th>\n",
       "      <th>Brand</th>\n",
       "      <th>Model</th>\n",
       "      <th>Avg Price</th>\n",
       "      <th>Total Sales Value</th>\n",
       "      <th>Discount Rate (%)</th>\n",
       "      <th>Discount Amount</th>\n",
       "      <th>Net Sales Value</th>\n",
       "    </tr>\n",
       "  </thead>\n",
       "  <tbody>\n",
       "    <tr>\n",
       "      <th>0</th>\n",
       "      <td>01-04-2021</td>\n",
       "      <td>Thursday</td>\n",
       "      <td>M01</td>\n",
       "      <td>C</td>\n",
       "      <td>15</td>\n",
       "      <td>Mobiles</td>\n",
       "      <td>RealU</td>\n",
       "      <td>RU-10</td>\n",
       "      <td>12100</td>\n",
       "      <td>181500</td>\n",
       "      <td>11.654820</td>\n",
       "      <td>21153.498820</td>\n",
       "      <td>160346.501180</td>\n",
       "    </tr>\n",
       "    <tr>\n",
       "      <th>1</th>\n",
       "      <td>01-04-2021</td>\n",
       "      <td>Thursday</td>\n",
       "      <td>M02</td>\n",
       "      <td>C</td>\n",
       "      <td>10</td>\n",
       "      <td>Mobiles</td>\n",
       "      <td>RealU</td>\n",
       "      <td>RU-9 Plus</td>\n",
       "      <td>10100</td>\n",
       "      <td>101000</td>\n",
       "      <td>11.560498</td>\n",
       "      <td>11676.102961</td>\n",
       "      <td>89323.897039</td>\n",
       "    </tr>\n",
       "    <tr>\n",
       "      <th>2</th>\n",
       "      <td>01-04-2021</td>\n",
       "      <td>Thursday</td>\n",
       "      <td>M03</td>\n",
       "      <td>C</td>\n",
       "      <td>7</td>\n",
       "      <td>Mobiles</td>\n",
       "      <td>YouM</td>\n",
       "      <td>YM-99</td>\n",
       "      <td>16100</td>\n",
       "      <td>112700</td>\n",
       "      <td>9.456886</td>\n",
       "      <td>10657.910157</td>\n",
       "      <td>102042.089843</td>\n",
       "    </tr>\n",
       "    <tr>\n",
       "      <th>3</th>\n",
       "      <td>01-04-2021</td>\n",
       "      <td>Thursday</td>\n",
       "      <td>M04</td>\n",
       "      <td>C</td>\n",
       "      <td>6</td>\n",
       "      <td>Mobiles</td>\n",
       "      <td>YouM</td>\n",
       "      <td>YM-99 Plus</td>\n",
       "      <td>20100</td>\n",
       "      <td>120600</td>\n",
       "      <td>6.935385</td>\n",
       "      <td>8364.074702</td>\n",
       "      <td>112235.925298</td>\n",
       "    </tr>\n",
       "    <tr>\n",
       "      <th>4</th>\n",
       "      <td>01-04-2021</td>\n",
       "      <td>Thursday</td>\n",
       "      <td>M05</td>\n",
       "      <td>C</td>\n",
       "      <td>3</td>\n",
       "      <td>Mobiles</td>\n",
       "      <td>YouM</td>\n",
       "      <td>YM-98</td>\n",
       "      <td>8100</td>\n",
       "      <td>24300</td>\n",
       "      <td>17.995663</td>\n",
       "      <td>4372.946230</td>\n",
       "      <td>19927.053770</td>\n",
       "    </tr>\n",
       "    <tr>\n",
       "      <th>...</th>\n",
       "      <td>...</td>\n",
       "      <td>...</td>\n",
       "      <td>...</td>\n",
       "      <td>...</td>\n",
       "      <td>...</td>\n",
       "      <td>...</td>\n",
       "      <td>...</td>\n",
       "      <td>...</td>\n",
       "      <td>...</td>\n",
       "      <td>...</td>\n",
       "      <td>...</td>\n",
       "      <td>...</td>\n",
       "      <td>...</td>\n",
       "    </tr>\n",
       "    <tr>\n",
       "      <th>445</th>\n",
       "      <td>15-04-2021</td>\n",
       "      <td>Thursday</td>\n",
       "      <td>L06</td>\n",
       "      <td>C</td>\n",
       "      <td>2</td>\n",
       "      <td>Lifestyle</td>\n",
       "      <td>Jeera</td>\n",
       "      <td>M-Casuals</td>\n",
       "      <td>1300</td>\n",
       "      <td>2600</td>\n",
       "      <td>15.475687</td>\n",
       "      <td>402.367873</td>\n",
       "      <td>2197.632127</td>\n",
       "    </tr>\n",
       "    <tr>\n",
       "      <th>446</th>\n",
       "      <td>15-04-2021</td>\n",
       "      <td>Thursday</td>\n",
       "      <td>L07</td>\n",
       "      <td>C</td>\n",
       "      <td>6</td>\n",
       "      <td>Lifestyle</td>\n",
       "      <td>Viva</td>\n",
       "      <td>W-Western</td>\n",
       "      <td>2600</td>\n",
       "      <td>15600</td>\n",
       "      <td>17.057027</td>\n",
       "      <td>2660.896242</td>\n",
       "      <td>12939.103758</td>\n",
       "    </tr>\n",
       "    <tr>\n",
       "      <th>447</th>\n",
       "      <td>15-04-2021</td>\n",
       "      <td>Thursday</td>\n",
       "      <td>L08</td>\n",
       "      <td>C</td>\n",
       "      <td>2</td>\n",
       "      <td>Lifestyle</td>\n",
       "      <td>Viva</td>\n",
       "      <td>W-Lounge</td>\n",
       "      <td>1600</td>\n",
       "      <td>3200</td>\n",
       "      <td>18.965550</td>\n",
       "      <td>606.897606</td>\n",
       "      <td>2593.102394</td>\n",
       "    </tr>\n",
       "    <tr>\n",
       "      <th>448</th>\n",
       "      <td>15-04-2021</td>\n",
       "      <td>Thursday</td>\n",
       "      <td>L09</td>\n",
       "      <td>C</td>\n",
       "      <td>3</td>\n",
       "      <td>Lifestyle</td>\n",
       "      <td>Jeera</td>\n",
       "      <td>M-Formals</td>\n",
       "      <td>1900</td>\n",
       "      <td>5700</td>\n",
       "      <td>16.793014</td>\n",
       "      <td>957.201826</td>\n",
       "      <td>4742.798174</td>\n",
       "    </tr>\n",
       "    <tr>\n",
       "      <th>449</th>\n",
       "      <td>15-04-2021</td>\n",
       "      <td>Thursday</td>\n",
       "      <td>L10</td>\n",
       "      <td>C</td>\n",
       "      <td>1</td>\n",
       "      <td>Lifestyle</td>\n",
       "      <td>Jeera</td>\n",
       "      <td>M-Shoes</td>\n",
       "      <td>3100</td>\n",
       "      <td>3100</td>\n",
       "      <td>15.333300</td>\n",
       "      <td>475.332295</td>\n",
       "      <td>2624.667705</td>\n",
       "    </tr>\n",
       "  </tbody>\n",
       "</table>\n",
       "<p>450 rows × 13 columns</p>\n",
       "</div>"
      ],
      "text/plain": [
       "           Date       Day  SKU City  Volume         BU  Brand       Model  \\\n",
       "0    01-04-2021  Thursday  M01    C      15    Mobiles  RealU       RU-10   \n",
       "1    01-04-2021  Thursday  M02    C      10    Mobiles  RealU   RU-9 Plus   \n",
       "2    01-04-2021  Thursday  M03    C       7    Mobiles   YouM       YM-99   \n",
       "3    01-04-2021  Thursday  M04    C       6    Mobiles   YouM  YM-99 Plus   \n",
       "4    01-04-2021  Thursday  M05    C       3    Mobiles   YouM      YM-98    \n",
       "..          ...       ...  ...  ...     ...        ...    ...         ...   \n",
       "445  15-04-2021  Thursday  L06    C       2  Lifestyle  Jeera   M-Casuals   \n",
       "446  15-04-2021  Thursday  L07    C       6  Lifestyle   Viva   W-Western   \n",
       "447  15-04-2021  Thursday  L08    C       2  Lifestyle   Viva    W-Lounge   \n",
       "448  15-04-2021  Thursday  L09    C       3  Lifestyle  Jeera   M-Formals   \n",
       "449  15-04-2021  Thursday  L10    C       1  Lifestyle  Jeera     M-Shoes   \n",
       "\n",
       "     Avg Price  Total Sales Value  Discount Rate (%)  Discount Amount  \\\n",
       "0        12100             181500          11.654820     21153.498820   \n",
       "1        10100             101000          11.560498     11676.102961   \n",
       "2        16100             112700           9.456886     10657.910157   \n",
       "3        20100             120600           6.935385      8364.074702   \n",
       "4         8100              24300          17.995663      4372.946230   \n",
       "..         ...                ...                ...              ...   \n",
       "445       1300               2600          15.475687       402.367873   \n",
       "446       2600              15600          17.057027      2660.896242   \n",
       "447       1600               3200          18.965550       606.897606   \n",
       "448       1900               5700          16.793014       957.201826   \n",
       "449       3100               3100          15.333300       475.332295   \n",
       "\n",
       "     Net Sales Value  \n",
       "0      160346.501180  \n",
       "1       89323.897039  \n",
       "2      102042.089843  \n",
       "3      112235.925298  \n",
       "4       19927.053770  \n",
       "..               ...  \n",
       "445      2197.632127  \n",
       "446     12939.103758  \n",
       "447      2593.102394  \n",
       "448      4742.798174  \n",
       "449      2624.667705  \n",
       "\n",
       "[450 rows x 13 columns]"
      ]
     },
     "execution_count": 14,
     "metadata": {},
     "output_type": "execute_result"
    }
   ],
   "source": [
    "df"
   ]
  },
  {
   "cell_type": "code",
   "execution_count": 16,
   "id": "a0eaac52-4a69-4251-8e82-4839452122f6",
   "metadata": {},
   "outputs": [
    {
     "data": {
      "image/png": "[encoded data removed]",
      "text/plain": [
       "<Figure size 640x480 with 1 Axes>"
      ]
     },
     "metadata": {},
     "output_type": "display_data"
    }
   ],
   "source": [
    "vol = df.hist('Volume')"
   ]
  },
  {
   "cell_type": "code",
   "execution_count": 18,
   "id": "44c3f0b3-0134-49cf-b1f3-a790d72479cd",
   "metadata": {},
   "outputs": [
    {
     "data": {
      "image/png": "[encoded data removed]",
      "text/plain": [
       "<Figure size 640x480 with 1 Axes>"
      ]
     },
     "metadata": {},
     "output_type": "display_data"
    }
   ],
   "source": [
    "avg = df.hist('Avg Price')"
   ]
  },
  {
   "cell_type": "code",
   "execution_count": 180,
   "id": "529ee5d5-ef55-45d0-a42b-064554695362",
   "metadata": {},
   "outputs": [
    {
     "data": {
      "image/png": "[encoded data removed]",
      "text/plain": [
       "<Figure size 640x480 with 1 Axes>"
      ]
     },
     "metadata": {},
     "output_type": "display_data"
    }
   ],
   "source": [
    "tsv = df.hist('Total Sales Value')"
   ]
  },
  {
   "cell_type": "code",
   "execution_count": null,
   "id": "5c8cebde-fec2-45e4-aaf6-83601553321f",
   "metadata": {},
   "outputs": [],
   "source": [
    "#dr = df.hist('discount_rate')"
   ]
  },
  {
   "cell_type": "code",
   "execution_count": 204,
   "id": "13da187f-b834-4ee9-a658-232629ead56e",
   "metadata": {},
   "outputs": [
    {
     "data": {
      "image/png": "[encoded data removed]",
      "text/plain": [
       "<Figure size 640x480 with 1 Axes>"
      ]
     },
     "metadata": {},
     "output_type": "display_data"
    }
   ],
   "source": [
    "dm = df.hist('Discount Amount')"
   ]
  },
  {
   "cell_type": "code",
   "execution_count": 206,
   "id": "768c4498-4540-4c90-9e70-557c65cc530c",
   "metadata": {},
   "outputs": [
    {
     "data": {
      "image/png": "[encoded data removed]",
      "text/plain": [
       "<Figure size 640x480 with 1 Axes>"
      ]
     },
     "metadata": {},
     "output_type": "display_data"
    }
   ],
   "source": [
    "nsv = df.hist('Net Sales Value')"
   ]
  },
  {
   "cell_type": "code",
   "execution_count": 151,
   "id": "f05565be-225f-4fd9-907b-b578d1f06a82",
   "metadata": {},
   "outputs": [
    {
     "data": {
      "text/plain": [
       "<Axes: >"
      ]
     },
     "execution_count": 151,
     "metadata": {},
     "output_type": "execute_result"
    },
    {
     "data": {
      "image/png": "[encoded data removed]",
      "text/plain": [
       "<Figure size 640x480 with 1 Axes>"
      ]
     },
     "metadata": {},
     "output_type": "display_data"
    }
   ],
   "source": [
    "sbs.boxplot(df)"
   ]
  },
  {
   "cell_type": "code",
   "execution_count": null,
   "id": "018fc8b3-2b59-47ee-8b0a-ff617ff21140",
   "metadata": {},
   "outputs": [],
   "source": []
  },
  {
   "cell_type": "code",
   "execution_count": null,
   "id": "5efdd79b-27a5-467d-a7e5-ff51f53ac22f",
   "metadata": {},
   "outputs": [],
   "source": []
  },
  {
   "cell_type": "code",
   "execution_count": 28,
   "id": "3ae50014-0c1b-48ac-8d3b-3a04778ffb0c",
   "metadata": {},
   "outputs": [
    {
     "data": {
      "image/png": "[encoded data removed]",
      "text/plain": [
       "<Figure size 1000x700 with 1 Axes>"
      ]
     },
     "metadata": {},
     "output_type": "display_data"
    }
   ],
   "source": [
    "vol = df['Volume'].head(12)\n",
    "avg = df['Avg Price'].head(12)\n",
    "tsv = df['Total Sales Value'].head(12)\n",
    "dr = df['Discount Rate (%)'].head(12)\n",
    "dm = df['Discount Amount'].head(12)\n",
    "#nsv = df['Net Sales Value'].head(12)\n",
    "\n",
    "# Figure Size\n",
    "fig = plt.figure(figsize =(10, 7))\n",
    "\n",
    "# Horizontal Bar Plot\n",
    "plt.bar(vol[0:10], avg[0:10])\n",
    "\n",
    "# Show Plot\n",
    "plt.show()"
   ]
  },
  {
   "cell_type": "code",
   "execution_count": 273,
   "id": "04ed01e4-c417-4fcc-9649-ba3043fc7224",
   "metadata": {},
   "outputs": [],
   "source": [
    "vom = statistics.mean(volume)"
   ]
  },
  {
   "cell_type": "code",
   "execution_count": 271,
   "id": "fdf8d640-b918-4ebc-9c07-2b36e6106c09",
   "metadata": {},
   "outputs": [],
   "source": [
    "vos = statistics.stdev(volume)"
   ]
  },
  {
   "cell_type": "code",
   "execution_count": 275,
   "id": "47dcb571-3b1b-45cd-bf1a-ea118085ac32",
   "metadata": {},
   "outputs": [],
   "source": [
    "avm = statistics.mean(avg_price)"
   ]
  },
  {
   "cell_type": "code",
   "execution_count": 277,
   "id": "6118e1db-1dbf-40fe-ad0b-25817a109f31",
   "metadata": {},
   "outputs": [],
   "source": [
    "avs = statistics.stdev(avg_price)"
   ]
  },
  {
   "cell_type": "code",
   "execution_count": 279,
   "id": "567688bf-6dbe-45f0-868b-e4e7199489d4",
   "metadata": {},
   "outputs": [],
   "source": [
    "tss = statistics.mean(total_sales)"
   ]
  },
  {
   "cell_type": "code",
   "execution_count": 281,
   "id": "320ee239-12b6-4eb2-acee-d41014e5982b",
   "metadata": {},
   "outputs": [],
   "source": [
    "tsm = statistics.stdev(total_sales)"
   ]
  },
  {
   "cell_type": "code",
   "execution_count": 285,
   "id": "a4d955e1-27e2-4a44-97c0-28d9d6730fa0",
   "metadata": {},
   "outputs": [],
   "source": [
    "drs = statistics.mean(dicount_rate)"
   ]
  },
  {
   "cell_type": "code",
   "execution_count": 287,
   "id": "c8bac83a-d095-46a2-bef4-c7781fdc3868",
   "metadata": {},
   "outputs": [],
   "source": [
    "drm = statistics.stdev(dicount_rate)"
   ]
  },
  {
   "cell_type": "code",
   "execution_count": 289,
   "id": "31fdb455-109c-4287-8997-96bb37e82285",
   "metadata": {},
   "outputs": [],
   "source": [
    "das = statistics.mean(discount_amount)"
   ]
  },
  {
   "cell_type": "code",
   "execution_count": 293,
   "id": "8bb8c1db-7fc5-4010-aad8-0e1bdba64426",
   "metadata": {},
   "outputs": [],
   "source": [
    "dam = statistics.stdev(discount_amount)"
   ]
  },
  {
   "cell_type": "code",
   "execution_count": 295,
   "id": "39e75cb1-2dbf-48f9-97c1-1e1285c8d090",
   "metadata": {},
   "outputs": [],
   "source": [
    "nss = statistics.mean(net_sales_value)"
   ]
  },
  {
   "cell_type": "code",
   "execution_count": 297,
   "id": "64c49a26-b591-4c9d-ad70-ee79852f1882",
   "metadata": {},
   "outputs": [],
   "source": [
    "nsm = statistics.stdev(net_sales_value)"
   ]
  },
  {
   "cell_type": "code",
   "execution_count": 317,
   "id": "9aa4221d-7dd2-4989-819c-f07a5f97df55",
   "metadata": {},
   "outputs": [],
   "source": [
    "df_standardized = (df - das) / dam"
   ]
  },
  {
   "cell_type": "code",
   "execution_count": 323,
   "id": "e042d7e2-35f7-431d-9bcb-4c54f26a6d0d",
   "metadata": {},
   "outputs": [
    {
     "data": {
      "text/html": [
       "<div>\n",
       "<style scoped>\n",
       "    .dataframe tbody tr th:only-of-type {\n",
       "        vertical-align: middle;\n",
       "    }\n",
       "\n",
       "    .dataframe tbody tr th {\n",
       "        vertical-align: top;\n",
       "    }\n",
       "\n",
       "    .dataframe thead th {\n",
       "        text-align: right;\n",
       "    }\n",
       "</style>\n",
       "<table border=\"1\" class=\"dataframe\">\n",
       "  <thead>\n",
       "    <tr style=\"text-align: right;\">\n",
       "      <th></th>\n",
       "      <th>count</th>\n",
       "      <th>mean</th>\n",
       "      <th>std</th>\n",
       "      <th>min</th>\n",
       "      <th>25%</th>\n",
       "      <th>50%</th>\n",
       "      <th>75%</th>\n",
       "      <th>max</th>\n",
       "    </tr>\n",
       "  </thead>\n",
       "  <tbody>\n",
       "    <tr>\n",
       "      <th>Volume</th>\n",
       "      <td>-0.642253</td>\n",
       "      <td>-0.740910</td>\n",
       "      <td>-0.741095</td>\n",
       "      <td>-0.741812</td>\n",
       "      <td>-0.741368</td>\n",
       "      <td>-0.741147</td>\n",
       "      <td>-0.740703</td>\n",
       "      <td>-0.735160</td>\n",
       "    </tr>\n",
       "    <tr>\n",
       "      <th>Avg Price</th>\n",
       "      <td>-0.642253</td>\n",
       "      <td>1.575851</td>\n",
       "      <td>3.266901</td>\n",
       "      <td>-0.677731</td>\n",
       "      <td>-0.638927</td>\n",
       "      <td>-0.420519</td>\n",
       "      <td>1.497482</td>\n",
       "      <td>12.584195</td>\n",
       "    </tr>\n",
       "    <tr>\n",
       "      <th>Total Sales Value</th>\n",
       "      <td>-0.642253</td>\n",
       "      <td>6.755431</td>\n",
       "      <td>10.463324</td>\n",
       "      <td>-0.653340</td>\n",
       "      <td>-0.143351</td>\n",
       "      <td>0.521852</td>\n",
       "      <td>11.054229</td>\n",
       "      <td>42.806575</td>\n",
       "    </tr>\n",
       "    <tr>\n",
       "      <th>Discount Rate (%)</th>\n",
       "      <td>-0.642253</td>\n",
       "      <td>-0.738673</td>\n",
       "      <td>-0.741098</td>\n",
       "      <td>-0.740923</td>\n",
       "      <td>-0.738937</td>\n",
       "      <td>-0.738358</td>\n",
       "      <td>-0.738017</td>\n",
       "      <td>-0.737601</td>\n",
       "    </tr>\n",
       "    <tr>\n",
       "      <th>Discount Amount</th>\n",
       "      <td>-0.642253</td>\n",
       "      <td>0.000000</td>\n",
       "      <td>0.257966</td>\n",
       "      <td>-0.726694</td>\n",
       "      <td>-0.639934</td>\n",
       "      <td>-0.522753</td>\n",
       "      <td>0.436816</td>\n",
       "      <td>4.964968</td>\n",
       "    </tr>\n",
       "    <tr>\n",
       "      <th>Net Sales Value</th>\n",
       "      <td>-0.642253</td>\n",
       "      <td>6.013397</td>\n",
       "      <td>9.537269</td>\n",
       "      <td>-0.669532</td>\n",
       "      <td>-0.253728</td>\n",
       "      <td>0.295192</td>\n",
       "      <td>9.867488</td>\n",
       "      <td>39.060925</td>\n",
       "    </tr>\n",
       "  </tbody>\n",
       "</table>\n",
       "</div>"
      ],
      "text/plain": [
       "                      count      mean        std       min       25%  \\\n",
       "Volume            -0.642253 -0.740910  -0.741095 -0.741812 -0.741368   \n",
       "Avg Price         -0.642253  1.575851   3.266901 -0.677731 -0.638927   \n",
       "Total Sales Value -0.642253  6.755431  10.463324 -0.653340 -0.143351   \n",
       "Discount Rate (%) -0.642253 -0.738673  -0.741098 -0.740923 -0.738937   \n",
       "Discount Amount   -0.642253  0.000000   0.257966 -0.726694 -0.639934   \n",
       "Net Sales Value   -0.642253  6.013397   9.537269 -0.669532 -0.253728   \n",
       "\n",
       "                        50%        75%        max  \n",
       "Volume            -0.741147  -0.740703  -0.735160  \n",
       "Avg Price         -0.420519   1.497482  12.584195  \n",
       "Total Sales Value  0.521852  11.054229  42.806575  \n",
       "Discount Rate (%) -0.738358  -0.738017  -0.737601  \n",
       "Discount Amount   -0.522753   0.436816   4.964968  \n",
       "Net Sales Value    0.295192   9.867488  39.060925  "
      ]
     },
     "execution_count": 323,
     "metadata": {},
     "output_type": "execute_result"
    }
   ],
   "source": [
    "df_standardized"
   ]
  },
  {
   "cell_type": "code",
   "execution_count": 327,
   "id": "0f4f71db-3eac-49b9-8d56-9c52e224483a",
   "metadata": {},
   "outputs": [
    {
     "name": "stderr",
     "output_type": "stream",
     "text": [
      "C:\\Users\\ravil\\AppData\\Local\\Temp\\ipykernel_1416\\3942789684.py:5: UserWarning: To output multiple subplots, the figure containing the passed axes is being cleared.\n",
      "  df.hist(ax=axes[0], color='skyblue')\n",
      "C:\\Users\\ravil\\AppData\\Local\\Temp\\ipykernel_1416\\3942789684.py:9: UserWarning: To output multiple subplots, the figure containing the passed axes is being cleared.\n",
      "  df_standardized.hist(ax=axes[1], color='lightgreen')\n"
     ]
    },
    {
     "data": {
      "image/png": "[encoded data removed]",
      "text/plain": [
       "<Figure size 1000x800 with 9 Axes>"
      ]
     },
     "metadata": {},
     "output_type": "display_data"
    }
   ],
   "source": [
    "# Plot before and after standardization\n",
    "\n",
    "# Create a figure with two subplots stacked vertically (2 rows, 1 column)\n",
    "fig, axes = plt.subplots(2, 1, figsize=(10, 8))\n",
    "\n",
    "# Plot the histograms of the original data (before standardization)\n",
    "# 'df' is the original dataset, and the histogram is displayed in the first subplot (axes[0])\n",
    "# The bars in the histogram are colored 'skyblue'\n",
    "df.hist(ax=axes[0], color='skyblue')\n",
    "# Set the title for the first subplot\n",
    "axes[0].set_title('Before Standardization')\n",
    "\n",
    "# Plot the histograms of the standardized data\n",
    "# 'df_standardized' is the dataset after applying standardization, and its histogram is displayed in the second subplot (axes[1])\n",
    "# The bars in the histogram are colored 'lightgreen'\n",
    "df_standardized.hist(ax=axes[1], color='lightgreen')\n",
    "# Set the title for the second subplot\n",
    "axes[1].set_title('After Standardization')\n",
    "\n",
    "# Adjust the layout of the subplots to prevent overlap\n",
    "plt.tight_layout()\n",
    "\n",
    "# Display the plot\n",
    "plt.show()"
   ]
  },
  {
   "cell_type": "markdown",
   "id": "c1810763-5541-453b-8c60-8179790e1c4e",
   "metadata": {},
   "source": [
    "Numerical Data Distribution:\n",
    "\n",
    "Histograms and Boxplots: The analysis of histograms and boxplots revealed the distribution patterns of numerical variables, highlighting any skewness, presence of outliers, and variability in the data.\n",
    "Outliers: Identified outliers suggest potential data anomalies or extreme values that may require further investigation or treatment in the analysis process.\n",
    "Categorical Data Distribution:\n",
    "\n",
    "Bar Charts: The bar charts provided insights into the frequency distribution of categories within each categorical variable. This helped in identifying dominant categories and understanding the balance (or imbalance) within the data.\n",
    "Imbalanced Categories: The presence of imbalanced categories could indicate potential biases that need to be addressed in predictive modeling or other analyses.\n",
    "Standardization of Numerical Variables:\n",
    "\n",
    "Z-Score Normalization: Standardizing the numerical variables ensured that each variable contributed equally to the analysis, particularly in algorithms sensitive to the scale of input features.\n",
    "Uniformity: After standardization, the variables were on a common scale, improving the dataset’s suitability for machine learning models.\n",
    "Conversion of Categorical Data into Dummy Variables:\n",
    "\n",
    "One-Hot Encoding: Transforming categorical variables into dummy variables made the data compatible with machine learning algorithms, preserving the categorical information while preventing the introduction of ordinal biases.\n",
    "Importance of Data Preprocessing Steps:\n",
    "\n",
    "Standardization:\n",
    "\n",
    "Enhanced Model Performance: By ensuring that numerical variables are on a common scale, standardization prevents features with larger ranges from dominating the analysis. This step is critical in algorithms that rely on distance metrics or gradient-based optimization.\n",
    "Improved Interpretability: Standardization makes it easier to compare the relative importance of features and interpret the results of the analysis.\n",
    "One-Hot Encoding:\n",
    "\n",
    "Compatibility with ML Algorithms: One-hot encoding is essential for converting categorical data into a numerical format that machine learning algorithms can process. It ensures that categorical variables are represented accurately without introducing biases related to arbitrary numeric assignments.\n",
    "Preservation of Information: This step retains all the information contained in categorical variables, allowing models to leverage this information in predictions without losing any critical details."
   ]
  },
  {
   "cell_type": "code",
   "execution_count": null,
   "id": "ed5fce44-c3d2-44ea-9d8d-d8c48536cd10",
   "metadata": {},
   "outputs": [],
   "source": []
  }
 ],
 "metadata": {
  "kernelspec": {
   "display_name": "Python 3 (ipykernel)",
   "language": "python",
   "name": "python3"
  },
  "language_info": {
   "codemirror_mode": {
    "name": "ipython",
    "version": 3
   },
   "file_extension": ".py",
   "mimetype": "text/x-python",
   "name": "python",
   "nbconvert_exporter": "python",
   "pygments_lexer": "ipython3",
   "version": "3.12.7"
  }
 },
 "nbformat": 4,
 "nbformat_minor": 5
}
