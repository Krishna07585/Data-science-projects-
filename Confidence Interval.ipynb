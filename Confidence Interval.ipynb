{
 "cells": [
  {
   "cell_type": "code",
   "execution_count": 1,
   "id": "2f0382f0-ad1a-4d64-8824-cfd93db8f49d",
   "metadata": {},
   "outputs": [],
   "source": [
    "import numpy as np\n",
    "import scipy.stats as stats"
   ]
  },
  {
   "cell_type": "code",
   "execution_count": 3,
   "id": "9c50572f-1fbf-4e0f-adc2-6294c2e93f27",
   "metadata": {},
   "outputs": [],
   "source": [
    "# Data\n",
    "data = [1.13, 1.55, 1.43, 0.92, 1.25, 1.36, 1.32, 0.85, 1.07, 1.48, 1.20, 1.33, 1.18, 1.22, 1.29]"
   ]
  },
  {
   "cell_type": "code",
   "execution_count": 15,
   "id": "0b9a8374-6cae-41e5-a8f5-da1408ebb98d",
   "metadata": {},
   "outputs": [],
   "source": [
    "# Sample statistics\n",
    "n = len(data)\n",
    "mean = np.mean(data)\n",
    "sample_std = np.std(data, ddof=1)  # Sample standard deviation"
   ]
  },
  {
   "cell_type": "code",
   "execution_count": 17,
   "id": "922e8287-aed1-4f4e-871f-787cbcb7a03c",
   "metadata": {},
   "outputs": [],
   "source": [
    "# Degrees of freedom\n",
    "df = n - 1"
   ]
  },
  {
   "cell_type": "code",
   "execution_count": 19,
   "id": "cf4c8011-f857-42cc-939b-f06b2801ac0e",
   "metadata": {},
   "outputs": [],
   "source": [
    "# t-critical value for 99% confidence interval\n",
    "t_critical = stats.t.ppf(0.995, df)"
   ]
  },
  {
   "cell_type": "code",
   "execution_count": 21,
   "id": "47574a4b-7f3d-487e-8237-ff09c7b13626",
   "metadata": {},
   "outputs": [],
   "source": [
    "# Margin of error\n",
    "margin_of_error = t_critical * (sample_std / np.sqrt(n))"
   ]
  },
  {
   "cell_type": "code",
   "execution_count": 23,
   "id": "c22e1386-e091-4688-a8d7-548e3e76ab67",
   "metadata": {},
   "outputs": [
    {
     "name": "stdout",
     "output_type": "stream",
     "text": [
      "99% Confidence Interval (using sample standard deviation): (1.09, 1.39)\n"
     ]
    }
   ],
   "source": [
    "# Confidence interval\n",
    "ci_lower = mean - margin_of_error\n",
    "ci_upper = mean + margin_of_error\n",
    "\n",
    "print(f\"99% Confidence Interval (using sample standard deviation): ({ci_lower:.2f}, {ci_upper:.2f})\")"
   ]
  },
  {
   "cell_type": "code",
   "execution_count": 7,
   "id": "72153d8d-f806-44b2-a2c9-5b2446c3d116",
   "metadata": {},
   "outputs": [],
   "source": [
    "# Known population standard deviation\n",
    "sigma = 0.2"
   ]
  },
  {
   "cell_type": "code",
   "execution_count": 9,
   "id": "a1afee0a-cc62-4de8-9460-8b802bc4de49",
   "metadata": {},
   "outputs": [],
   "source": [
    "# z-critical value for 99% confidence interval\n",
    "z_critical = stats.norm.ppf(0.995)"
   ]
  },
  {
   "cell_type": "code",
   "execution_count": 11,
   "id": "514fcbec-62a9-4209-b34a-c4f45bd57f92",
   "metadata": {},
   "outputs": [],
   "source": [
    "# Margin of error\n",
    "margin_of_error = z_critical * (sigma / np.sqrt(n))"
   ]
  },
  {
   "cell_type": "code",
   "execution_count": 13,
   "id": "ed62ab89-046d-4aa5-831d-d0993f6d8937",
   "metadata": {},
   "outputs": [
    {
     "name": "stdout",
     "output_type": "stream",
     "text": [
      "99% Confidence Interval (using known population standard deviation): (1.11, 1.37)\n"
     ]
    }
   ],
   "source": [
    "# Confidence interval\n",
    "ci_lower = mean - margin_of_error\n",
    "ci_upper = mean + margin_of_error\n",
    "\n",
    "print(f\"99% Confidence Interval (using known population standard deviation): ({ci_lower:.2f}, {ci_upper:.2f})\")"
   ]
  },
  {
   "cell_type": "code",
   "execution_count": null,
   "id": "df4ada33-2f95-4dc6-a83c-322ae143ecee",
   "metadata": {},
   "outputs": [],
   "source": []
  }
 ],
 "metadata": {
  "kernelspec": {
   "display_name": "Python 3 (ipykernel)",
   "language": "python",
   "name": "python3"
  },
  "language_info": {
   "codemirror_mode": {
    "name": "ipython",
    "version": 3
   },
   "file_extension": ".py",
   "mimetype": "text/x-python",
   "name": "python",
   "nbconvert_exporter": "python",
   "pygments_lexer": "ipython3",
   "version": "3.12.4"
  }
 },
 "nbformat": 4,
 "nbformat_minor": 5
}
